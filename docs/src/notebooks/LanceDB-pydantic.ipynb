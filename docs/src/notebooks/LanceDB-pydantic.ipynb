{
 "cells": [
  {
   "cell_type": "code",
   "execution_count": 1,
   "id": "8aab4adf",
   "metadata": {},
   "outputs": [],
   "source": [
    "import lancedb\n",
    "from lancedb.embeddings import with_embeddings\n",
    "from lancedb.pydantic import lancedb_model\n",
    "import numpy as np\n",
    "import openai\n",
    "import pyarrow as pa\n",
    "import pydantic"
   ]
  },
  {
   "cell_type": "code",
   "execution_count": 2,
   "id": "4ae4d6a9",
   "metadata": {},
   "outputs": [],
   "source": [
    "class MyModel(lancedb_model(\"~/.lancedb\", \"test\")):\n",
    "    text: str = pydantic.Field(\"string\", vector_input_column=True)\n"
   ]
  },
  {
   "cell_type": "code",
   "execution_count": 3,
   "id": "5daf348c",
   "metadata": {
    "scrolled": true
   },
   "outputs": [
    {
     "name": "stdout",
     "output_type": "stream",
     "text": [
      "WARNING: rate limit only support up to 3.10, proceeding without rate limiter\n"
     ]
    }
   ],
   "source": [
    "inst = MyModel.create_instances([{\"text\": \"hamlet\"}, {\"text\": \"the bible\"}, {\"text\": \"lord of the rings\"}])"
   ]
  },
  {
   "cell_type": "code",
   "execution_count": 4,
   "id": "d1382950",
   "metadata": {},
   "outputs": [
    {
     "data": {
      "text/plain": [
       "'hamlet'"
      ]
     },
     "execution_count": 4,
     "metadata": {},
     "output_type": "execute_result"
    }
   ],
   "source": [
    "MyModel.search(\"play written by shakespeare\", n=1)[0].text"
   ]
  },
  {
   "cell_type": "code",
   "execution_count": null,
   "id": "6a556f10",
   "metadata": {},
   "outputs": [],
   "source": []
  }
 ],
 "metadata": {
  "kernelspec": {
   "display_name": "Python 3 (ipykernel)",
   "language": "python",
   "name": "python3"
  },
  "language_info": {
   "codemirror_mode": {
    "name": "ipython",
    "version": 3
   },
   "file_extension": ".py",
   "mimetype": "text/x-python",
   "name": "python",
   "nbconvert_exporter": "python",
   "pygments_lexer": "ipython3",
   "version": "3.11.3"
  }
 },
 "nbformat": 4,
 "nbformat_minor": 5
}
