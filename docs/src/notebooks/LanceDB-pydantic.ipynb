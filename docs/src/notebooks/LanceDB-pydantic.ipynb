{
 "cells": [
  {
   "cell_type": "code",
   "execution_count": 1,
   "id": "8aab4adf",
   "metadata": {},
   "outputs": [],
   "source": [
    "import lancedb\n",
    "from lancedb.embeddings import with_embeddings\n",
    "from lancedb.pydantic import vector, pydantic_to_schema\n",
    "import numpy as np\n",
    "import openai\n",
    "import pyarrow as pa\n",
    "import pydantic"
   ]
  },
  {
   "cell_type": "code",
   "execution_count": 18,
   "id": "e0f081f2",
   "metadata": {},
   "outputs": [],
   "source": [
    "from abc import ABC, abstractmethod\n",
    "from uuid import uuid4\n",
    "\n",
    "class LanceDBMixin(ABC):\n",
    "    embedding: vector(1536)\n",
    "        \n",
    "    @classmethod\n",
    "    @abstractmethod\n",
    "    def uri(cls):\n",
    "        pass\n",
    "    \n",
    "    @classmethod\n",
    "    @abstractmethod\n",
    "    def table_name(self):\n",
    "        pass\n",
    "        \n",
    "    @classmethod\n",
    "    def get_table(cls) -> lancedb.table.LanceTable:\n",
    "        db = lancedb.connect(cls.uri())\n",
    "        if cls.table_name() in db:\n",
    "            return db.open_table(cls.table_name())\n",
    "        return db.create_table(cls.table_name(), schema=cls.get_arrow_schema())\n",
    "        \n",
    "    @classmethod\n",
    "    def get_arrow_schema(cls) -> pa.Schema:\n",
    "        return pydantic_to_schema(cls)        \n",
    "    \n",
    "    @classmethod\n",
    "    def generate_embedding(cls, batch: str | list[str]) -> list[np.ndarray]:\n",
    "        rs = openai.Embedding.create(input=batch, engine=\"text-embedding-ada-002\")\n",
    "        return [record[\"embedding\"] for record in rs[\"data\"]]\n",
    "    \n",
    "    @classmethod\n",
    "    def create_instances(cls, data: list[dict]) -> list[pydantic.BaseModel]:\n",
    "        to_embed_name = cls._find_raw_data_column() # could be None\n",
    "        schema = cls.get_arrow_schema()\n",
    "        if to_embed_name is not None:\n",
    "            arrow_table = with_embeddings(cls.generate_embedding, \n",
    "                                          pa.Table.from_pylist(data), \n",
    "                                          column=to_embed_name)\n",
    "            arrow_table = arrow_table.rename_columns(\n",
    "                [name if name != \"vector\" else \"embedding\"\n",
    "                 for name in arrow_table.schema.names])\n",
    "            arrow_table = arrow_table.select(schema.names).cast(schema)\n",
    "        else:\n",
    "            arrow_table = pa.Table.from_pylist(data, schema=schema)\n",
    "        cls.get_table().add(arrow_table)\n",
    "        return [cls(**row) for row in arrow_table.to_pylist()]\n",
    "    \n",
    "    @classmethod\n",
    "    def _find_raw_data_column(cls):\n",
    "        for name, field in cls.model_fields.items():\n",
    "            if (field.json_schema_extra or {}).get(\"vector_input_column\"):\n",
    "                return name\n",
    "        return None\n",
    "    \n",
    "    @classmethod\n",
    "    def retrieve(cls, query, n=3, filter=None) -> list[pydantic.BaseModel]:\n",
    "        tbl = cls.get_table()\n",
    "        embedding = cls.generate_embedding(query)[0]\n",
    "        arrow_table = tbl.search(embedding, vector_column_name=\"embedding\").where(filter).to_arrow()\n",
    "        return [cls(**row) for row in arrow_table.to_pylist()]\n",
    "\n",
    "    @classmethod\n",
    "    def reset(cls):\n",
    "        db = lancedb.connect(cls.uri())\n",
    "        db.drop_table(cls.table_name())\n",
    "        \n",
    "    \n",
    "def lancedb_model(uri, table_name):\n",
    "    return type(f'LanceDBMixin_{uuid4().hex}', \n",
    "                (LanceDBMixin,), \n",
    "                {\n",
    "                    \"uri\": classmethod(lambda cls: uri),\n",
    "                    \"table_name\": classmethod(lambda cls: table_name)\n",
    "                })"
   ]
  },
  {
   "cell_type": "code",
   "execution_count": 19,
   "id": "4ae4d6a9",
   "metadata": {},
   "outputs": [],
   "source": [
    "import pydantic\n",
    "from lancedb.pydantic import vector\n",
    "\n",
    "class MyModel(pydantic.BaseModel, lancedb_model(\"~/.lancedb\", \"test\")):\n",
    "    text: str = pydantic.Field(\"string\", vector_input_column=True)\n"
   ]
  },
  {
   "cell_type": "code",
   "execution_count": null,
   "id": "5daf348c",
   "metadata": {
    "scrolled": true
   },
   "outputs": [],
   "source": [
    "inst = MyModel.create_instances([{\"text\": \"hamlet\"}, {\"text\": \"the bible\"}, {\"text\": \"lord of the rings\"}])"
   ]
  },
  {
   "cell_type": "code",
   "execution_count": 21,
   "id": "d1382950",
   "metadata": {},
   "outputs": [
    {
     "data": {
      "text/plain": [
       "'hamlet'"
      ]
     },
     "execution_count": 21,
     "metadata": {},
     "output_type": "execute_result"
    }
   ],
   "source": [
    "MyModel.retrieve(\"play written by shakespeare\", n=1)[0].text"
   ]
  },
  {
   "cell_type": "code",
   "execution_count": null,
   "id": "6a556f10",
   "metadata": {},
   "outputs": [],
   "source": []
  }
 ],
 "metadata": {
  "kernelspec": {
   "display_name": "Python 3 (ipykernel)",
   "language": "python",
   "name": "python3"
  },
  "language_info": {
   "codemirror_mode": {
    "name": "ipython",
    "version": 3
   },
   "file_extension": ".py",
   "mimetype": "text/x-python",
   "name": "python",
   "nbconvert_exporter": "python",
   "pygments_lexer": "ipython3",
   "version": "3.11.3"
  }
 },
 "nbformat": 4,
 "nbformat_minor": 5
}
